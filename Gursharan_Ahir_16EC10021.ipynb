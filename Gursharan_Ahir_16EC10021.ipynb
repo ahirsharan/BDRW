{
  "nbformat": 4,
  "nbformat_minor": 0,
  "metadata": {
    "colab": {
      "name": "Gursharan_Ahir_16EC10021.ipynb",
      "provenance": [],
      "collapsed_sections": []
    },
    "kernelspec": {
      "name": "python3",
      "display_name": "Python 3"
    },
    "accelerator": "GPU"
  },
  "cells": [
    {
      "cell_type": "markdown",
      "metadata": {
        "id": "c3yKEJNawdpr",
        "colab_type": "text"
      },
      "source": [
        "# BDRW Project\n",
        "## Gursharan Ahir\n",
        "## 16EC10021"
      ]
    },
    {
      "cell_type": "code",
      "metadata": {
        "id": "D8J8oIplI0qk",
        "colab_type": "code",
        "colab": {}
      },
      "source": [
        "%matplotlib inline\n",
        "import pandas as pd\n",
        "import numpy as np\n",
        "import os\n",
        "import torch\n",
        "import numpy as np\n",
        "from PIL import Image\n",
        "import torch.nn as nn\n",
        "import torch.nn.functional as F\n",
        "import matplotlib.pyplot as plt\n",
        "from torchvision import transforms, datasets\n",
        "import torch.optim as optim"
      ],
      "execution_count": 0,
      "outputs": []
    },
    {
      "cell_type": "code",
      "metadata": {
        "id": "AypwvjjQ7Jnw",
        "colab_type": "code",
        "outputId": "1cf69c32-a979-48f1-d277-a213ed171bf7",
        "colab": {
          "base_uri": "https://localhost:8080/",
          "height": 34
        }
      },
      "source": [
        "from google.colab import drive\n",
        "drive.mount('/content/drive')"
      ],
      "execution_count": 2,
      "outputs": [
        {
          "output_type": "stream",
          "text": [
            "Drive already mounted at /content/drive; to attempt to forcibly remount, call drive.mount(\"/content/drive\", force_remount=True).\n"
          ],
          "name": "stdout"
        }
      ]
    },
    {
      "cell_type": "code",
      "metadata": {
        "id": "ryWjVv5zFrXq",
        "colab_type": "code",
        "colab": {}
      },
      "source": [
        "# The dataset directory\n",
        "curr_dir= \"/content/drive/My Drive/Datasetsnew/BDRW_train\""
      ],
      "execution_count": 0,
      "outputs": []
    },
    {
      "cell_type": "code",
      "metadata": {
        "id": "uUXck3SajEL_",
        "colab_type": "code",
        "colab": {}
      },
      "source": [
        "#Data Loader utility for the BDRW Dataset with custom transform\n",
        "\n",
        "class BengaliDataset():\n",
        "    def __init__(self, dataset, currdir, transform=None):\n",
        "        \"\"\"\n",
        "        Args:\n",
        "            csv_file (string): Path to annotated csv file.\n",
        "            currdir (string): Directory with all the images.\n",
        "            transform (callable, optional): Optional transform to be applied on a sample.\n",
        "        \"\"\"\n",
        "        self.labelsf = dataset\n",
        "        self.currdir = currdir\n",
        "        self.transform = transform\n",
        "\n",
        "    def __len__(self):\n",
        "        return len(self.labelsf)\n",
        "\n",
        "    def __getitem__(self, idx):\n",
        "        if torch.is_tensor(idx):\n",
        "            idx = idx.tolist()\n",
        "\n",
        "        #img is the full path to image\n",
        "        img = os.path.join(self.currdir,self.labelsf.iloc[idx, 0])\n",
        "        img = img + \".jpg\"\n",
        "        image = Image.open(img)\n",
        "\n",
        "        #label of corresponding image\n",
        "        label = self.labelsf.iloc[idx, 1]\n",
        "\n",
        "        if self.transform:\n",
        "            image = self.transform(image)\n",
        "            \n",
        "        return image, label"
      ],
      "execution_count": 0,
      "outputs": []
    },
    {
      "cell_type": "code",
      "metadata": {
        "id": "2ZK4aFfdv6Jd",
        "colab_type": "code",
        "colab": {}
      },
      "source": [
        "# Reading the label excel sheet for dataset splitting\n",
        "\n",
        "labelsf = pd.read_excel(curr_dir + \"/labels.xls\", index_col=None, header=None)\n",
        "# Random Split the dataset into train, test, validation\n",
        "# 70% of the total to train\n",
        "# 20% of the total to validation\n",
        "# 10% of the total to test\n",
        "train, val, test = np.split(labelsf.sample(frac=1), [int(0.7*len(labelsf)), int(0.9*len(labelsf))])"
      ],
      "execution_count": 0,
      "outputs": []
    },
    {
      "cell_type": "code",
      "metadata": {
        "id": "PVux9eu7IAyz",
        "colab_type": "code",
        "colab": {}
      },
      "source": [
        "# Defining the dataloaders\n",
        "\n",
        "Batch_Size = 16\n",
        "\n",
        "# Image is resized to square image with grayscale transform\n",
        "apply_transform = transforms.Compose([transforms.Resize((32,32)), transforms.Grayscale(num_output_channels=1), transforms.ToTensor()])\n",
        "\n",
        "# Random shuffle given to each data sampler with above transform\n",
        "train_dataset = BengaliDataset( dataset = train, currdir= curr_dir + \"/\", transform=apply_transform)\n",
        "trainloader = torch.utils.data.DataLoader(train_dataset, batch_size=Batch_Size, shuffle=True, num_workers=4)\n",
        "\n",
        "val_dataset = BengaliDataset( dataset = val, currdir= curr_dir + \"/\",transform=apply_transform)\n",
        "valloader = torch.utils.data.DataLoader(val_dataset, batch_size=Batch_Size, shuffle=True, num_workers=4)\n",
        "\n",
        "test_dataset = BengaliDataset( dataset = test, currdir= curr_dir + \"/\",transform=apply_transform)\n",
        "testloader = torch.utils.data.DataLoader(test_dataset, batch_size=Batch_Size, shuffle=True, num_workers=4)\n"
      ],
      "execution_count": 0,
      "outputs": []
    },
    {
      "cell_type": "code",
      "metadata": {
        "id": "Uu8XOl_e1y0S",
        "colab_type": "code",
        "colab": {}
      },
      "source": [
        "# LeNet Model Architecture for classification\n",
        "\n",
        "class LeNet(nn.Module):\n",
        "    def __init__(self):\n",
        "        super(LeNet, self).__init__()\n",
        "        self.Conv1 = nn.Conv2d(1, 6, kernel_size=5)\n",
        "        self.Pool1 = nn.MaxPool2d(kernel_size=2,stride=2)\n",
        "        self.Conv2 = nn.Conv2d(6, 16, kernel_size=5)\n",
        "        self.Pool2 = nn.MaxPool2d(kernel_size=2,stride=2)        \n",
        "        self.FC1 = nn.Linear(400, 120)\n",
        "        self.FC2 = nn.Linear(120, 84)\n",
        "        self.FC3 = nn.Linear(84, 10)\n",
        "\n",
        "    def forward(self, x):\n",
        "        x = F.relu(self.Conv1(x))\n",
        "        x = self.Pool1(x)\n",
        "        x = F.relu(self.Conv2(x))\n",
        "        x = self.Pool2(x)\n",
        "        x = x.view(-1, 400)\n",
        "        x = F.relu(self.FC1(x)) \n",
        "        x = F.relu(self.FC2(x))\n",
        "        x = self.FC3(x)\n",
        "        return F.log_softmax(x,dim=1)"
      ],
      "execution_count": 0,
      "outputs": []
    },
    {
      "cell_type": "code",
      "metadata": {
        "id": "BJh6IImc2aA0",
        "colab_type": "code",
        "outputId": "eaaebf61-993b-4d55-c78f-e663057c6244",
        "colab": {
          "base_uri": "https://localhost:8080/",
          "height": 170
        }
      },
      "source": [
        "# Model instantiated and cuda incorporated\n",
        "\n",
        "use_gpu = torch.cuda.is_available()\n",
        "net = LeNet()\n",
        "print(net)\n",
        "if use_gpu:\n",
        "    net = net.cuda()"
      ],
      "execution_count": 8,
      "outputs": [
        {
          "output_type": "stream",
          "text": [
            "LeNet(\n",
            "  (Conv1): Conv2d(1, 6, kernel_size=(5, 5), stride=(1, 1))\n",
            "  (Pool1): MaxPool2d(kernel_size=2, stride=2, padding=0, dilation=1, ceil_mode=False)\n",
            "  (Conv2): Conv2d(6, 16, kernel_size=(5, 5), stride=(1, 1))\n",
            "  (Pool2): MaxPool2d(kernel_size=2, stride=2, padding=0, dilation=1, ceil_mode=False)\n",
            "  (FC1): Linear(in_features=400, out_features=120, bias=True)\n",
            "  (FC2): Linear(in_features=120, out_features=84, bias=True)\n",
            "  (FC3): Linear(in_features=84, out_features=10, bias=True)\n",
            ")\n"
          ],
          "name": "stdout"
        }
      ]
    },
    {
      "cell_type": "code",
      "metadata": {
        "id": "sXnzyxKWDumA",
        "colab_type": "code",
        "outputId": "0c3697eb-79ef-4abf-c88a-383e359e546d",
        "colab": {
          "base_uri": "https://localhost:8080/",
          "height": 1000
        }
      },
      "source": [
        "# CE Loss object\n",
        "criterion = nn.CrossEntropyLoss()\n",
        "\n",
        "# HyperParameters\n",
        "\n",
        "# Learning rate is taken to be constant for training\n",
        "learning_rate = 0.001\n",
        "\n",
        "# Similar to 90% train accuracy is obtained at 50 epochs, model trained for 70 epochs since the loss stagnates nearly\n",
        "num_epochs = 70\n",
        "\n",
        "# Optimizer: Stochastic Gradient descent \n",
        "optimizer = optim.SGD(net.parameters(),lr=learning_rate, momentum = 0.9)\n",
        "\n",
        "train_loss = []\n",
        "train_acc = []\n",
        "val_loss = []\n",
        "val_acc = []\n",
        "\n",
        "for epoch in range(num_epochs):\n",
        "    \n",
        "    # Training Phase\n",
        "    running_loss = 0.0 \n",
        "    running_corr = 0\n",
        "        \n",
        "    for i,data in enumerate(trainloader):\n",
        "        inputs,labels = data\n",
        "        if use_gpu:\n",
        "            inputs, labels = inputs.cuda(),labels.cuda() \n",
        "\n",
        "        # Set model gradients zero\n",
        "        net.zero_grad() \n",
        "\n",
        "        # Set the paramenter gradients to zero\n",
        "        optimizer.zero_grad()\n",
        "\n",
        "        # Feed-forward the data\n",
        "        outputs = net(inputs)\n",
        "\n",
        "        # Maximum probability class is the predicted class\n",
        "        preds = torch.argmax(outputs,dim=1)\n",
        "\n",
        "        # Cross Entropy Loss calculated\n",
        "        loss = criterion(outputs, labels)\n",
        "\n",
        "        # Accumulating the Batch loss\n",
        "        running_loss += loss \n",
        "\n",
        "        # Accumulating th correct predictions measure\n",
        "        running_corr += torch.sum(preds==labels)    \n",
        "\n",
        "        # Calculating gradients\n",
        "        loss.backward()\n",
        "\n",
        "        # Updating model parameters\n",
        "        optimizer.step()\n",
        "        \n",
        "\n",
        "    # Validation Phase\n",
        "    i=0\n",
        "    correct_pred1 = 0\n",
        "    running_loss1 = 0.0\n",
        "  \n",
        "    for data in valloader:\n",
        "        inputs1,labels1 = data\n",
        "\n",
        "        if use_gpu:\n",
        "            inputs1, labels1 = inputs1.cuda(),labels1.cuda()\n",
        "\n",
        "        # Feed-forward the data\n",
        "        outputs1 = net(inputs1) \n",
        "\n",
        "        # Maximum probability class is the predicted class\n",
        "        preds1 = torch.argmax(outputs1,dim=1)\n",
        "\n",
        "        # Cross Entropy Loss calculated\n",
        "        loss1 = criterion(outputs1, labels1)\n",
        "\n",
        "        # Accumulating the Batch loss\n",
        "        running_loss1 += loss1\n",
        "\n",
        "        # Accumulating th correct predictions measure\n",
        "        correct_pred1 += torch.sum(preds1==labels1)\n",
        "        i += 1\n",
        "\n",
        "    # Training loss for each epoch\n",
        "    epoch_loss = running_loss.item()/(1.0*(i+1))   \n",
        "    # Training Accuracy for each epoch\n",
        "    epoch_acc = running_corr.item()/(1.0*len(train_dataset))\n",
        "\n",
        "    # Validation loss for each epoch\n",
        "    epochval_loss = running_loss1.item()/(1.0*(i+1))\n",
        "    # Validation Accuracy for each epoch    \n",
        "    epochval_acc = correct_pred1.item()/(1.0*len(val_dataset))\n",
        "\n",
        "    val_loss.append(epochval_loss) #Saving the loss over epochs for plotting the graph\n",
        "    val_acc.append(epochval_acc) #Saving the accuracy over epochs for plotting the graph\n",
        "    train_loss.append(epoch_loss) #Saving the loss over epochs for plotting the graph\n",
        "    train_acc.append(epoch_acc) #Saving the accuracy over epochs for plotting the graph\n",
        "        \n",
        "    print('Epoch {:.0f}/{:.0f} : Training loss: {:.4f} | Training Accuracy: {:.4f}| Validation Loss: {:.4f}| Validation Accuracy: {:.4f}'.format(epoch+1, num_epochs,epoch_loss, epoch_acc*100.0, epochval_loss, epochval_acc*100.0 ))"
      ],
      "execution_count": 9,
      "outputs": [
        {
          "output_type": "stream",
          "text": [
            "Epoch 1/70 : Training loss: 7.3650 | Training Accuracy: 16.1026| Validation Loss: 2.1643| Validation Accuracy: 20.1439\n",
            "Epoch 2/70 : Training loss: 7.3140 | Training Accuracy: 20.1026| Validation Loss: 2.1520| Validation Accuracy: 20.1439\n",
            "Epoch 3/70 : Training loss: 7.2635 | Training Accuracy: 20.1026| Validation Loss: 2.1335| Validation Accuracy: 20.1439\n",
            "Epoch 4/70 : Training loss: 7.2068 | Training Accuracy: 20.1026| Validation Loss: 2.1170| Validation Accuracy: 20.1439\n",
            "Epoch 5/70 : Training loss: 7.1478 | Training Accuracy: 20.1026| Validation Loss: 2.1021| Validation Accuracy: 20.1439\n",
            "Epoch 6/70 : Training loss: 7.1152 | Training Accuracy: 20.1026| Validation Loss: 2.0980| Validation Accuracy: 20.1439\n",
            "Epoch 7/70 : Training loss: 7.1026 | Training Accuracy: 20.1026| Validation Loss: 2.0884| Validation Accuracy: 20.1439\n",
            "Epoch 8/70 : Training loss: 7.0932 | Training Accuracy: 20.1026| Validation Loss: 2.0814| Validation Accuracy: 20.1439\n",
            "Epoch 9/70 : Training loss: 7.0885 | Training Accuracy: 20.3077| Validation Loss: 2.0986| Validation Accuracy: 20.1439\n",
            "Epoch 10/70 : Training loss: 7.0764 | Training Accuracy: 20.1026| Validation Loss: 2.0908| Validation Accuracy: 20.1439\n",
            "Epoch 11/70 : Training loss: 7.0670 | Training Accuracy: 20.1026| Validation Loss: 2.0805| Validation Accuracy: 22.3022\n",
            "Epoch 12/70 : Training loss: 7.0538 | Training Accuracy: 20.3077| Validation Loss: 2.0785| Validation Accuracy: 24.1007\n",
            "Epoch 13/70 : Training loss: 7.0345 | Training Accuracy: 22.1538| Validation Loss: 2.0729| Validation Accuracy: 23.0216\n",
            "Epoch 14/70 : Training loss: 7.0078 | Training Accuracy: 22.8718| Validation Loss: 2.0698| Validation Accuracy: 28.4173\n",
            "Epoch 15/70 : Training loss: 6.9768 | Training Accuracy: 25.7436| Validation Loss: 2.0537| Validation Accuracy: 29.1367\n",
            "Epoch 16/70 : Training loss: 6.9172 | Training Accuracy: 27.2821| Validation Loss: 2.0311| Validation Accuracy: 27.3381\n",
            "Epoch 17/70 : Training loss: 6.8358 | Training Accuracy: 27.1795| Validation Loss: 2.0152| Validation Accuracy: 28.7770\n",
            "Epoch 18/70 : Training loss: 6.7013 | Training Accuracy: 28.0000| Validation Loss: 1.9572| Validation Accuracy: 28.4173\n",
            "Epoch 19/70 : Training loss: 6.5268 | Training Accuracy: 27.6923| Validation Loss: 1.8769| Validation Accuracy: 26.9784\n",
            "Epoch 20/70 : Training loss: 6.2950 | Training Accuracy: 28.7179| Validation Loss: 1.8284| Validation Accuracy: 30.2158\n",
            "Epoch 21/70 : Training loss: 6.0676 | Training Accuracy: 32.8205| Validation Loss: 1.7626| Validation Accuracy: 34.5324\n",
            "Epoch 22/70 : Training loss: 5.8445 | Training Accuracy: 36.2051| Validation Loss: 1.6864| Validation Accuracy: 38.4892\n",
            "Epoch 23/70 : Training loss: 5.6518 | Training Accuracy: 40.5128| Validation Loss: 1.6721| Validation Accuracy: 37.4101\n",
            "Epoch 24/70 : Training loss: 5.3327 | Training Accuracy: 44.7179| Validation Loss: 1.6004| Validation Accuracy: 42.8058\n",
            "Epoch 25/70 : Training loss: 5.0767 | Training Accuracy: 50.4615| Validation Loss: 1.5102| Validation Accuracy: 46.0432\n",
            "Epoch 26/70 : Training loss: 4.8003 | Training Accuracy: 55.1795| Validation Loss: 1.4725| Validation Accuracy: 48.2014\n",
            "Epoch 27/70 : Training loss: 4.5855 | Training Accuracy: 55.7949| Validation Loss: 1.4715| Validation Accuracy: 51.7986\n",
            "Epoch 28/70 : Training loss: 4.2049 | Training Accuracy: 62.4615| Validation Loss: 1.2632| Validation Accuracy: 57.1942\n",
            "Epoch 29/70 : Training loss: 3.8859 | Training Accuracy: 65.3333| Validation Loss: 1.2298| Validation Accuracy: 57.5540\n",
            "Epoch 30/70 : Training loss: 3.5821 | Training Accuracy: 67.5897| Validation Loss: 1.1700| Validation Accuracy: 62.5899\n",
            "Epoch 31/70 : Training loss: 3.2992 | Training Accuracy: 69.5385| Validation Loss: 1.1105| Validation Accuracy: 63.3094\n",
            "Epoch 32/70 : Training loss: 3.0431 | Training Accuracy: 72.6154| Validation Loss: 0.9971| Validation Accuracy: 64.3885\n",
            "Epoch 33/70 : Training loss: 2.7842 | Training Accuracy: 73.4359| Validation Loss: 0.9019| Validation Accuracy: 68.3453\n",
            "Epoch 34/70 : Training loss: 2.5605 | Training Accuracy: 75.7949| Validation Loss: 0.8365| Validation Accuracy: 74.8201\n",
            "Epoch 35/70 : Training loss: 2.3118 | Training Accuracy: 77.6410| Validation Loss: 0.7492| Validation Accuracy: 77.3381\n",
            "Epoch 36/70 : Training loss: 2.0672 | Training Accuracy: 80.9231| Validation Loss: 0.7200| Validation Accuracy: 78.4173\n",
            "Epoch 37/70 : Training loss: 1.9185 | Training Accuracy: 82.6667| Validation Loss: 0.6947| Validation Accuracy: 77.3381\n",
            "Epoch 38/70 : Training loss: 1.7917 | Training Accuracy: 84.0000| Validation Loss: 0.6558| Validation Accuracy: 78.4173\n",
            "Epoch 39/70 : Training loss: 1.6684 | Training Accuracy: 84.1026| Validation Loss: 0.6417| Validation Accuracy: 78.7770\n",
            "Epoch 40/70 : Training loss: 1.4836 | Training Accuracy: 87.4872| Validation Loss: 0.5670| Validation Accuracy: 81.2950\n",
            "Epoch 41/70 : Training loss: 1.3257 | Training Accuracy: 87.6923| Validation Loss: 0.5620| Validation Accuracy: 82.3741\n",
            "Epoch 42/70 : Training loss: 1.2115 | Training Accuracy: 89.4359| Validation Loss: 0.4868| Validation Accuracy: 82.7338\n",
            "Epoch 43/70 : Training loss: 1.1150 | Training Accuracy: 90.7692| Validation Loss: 0.4921| Validation Accuracy: 83.0935\n",
            "Epoch 44/70 : Training loss: 1.0185 | Training Accuracy: 90.7692| Validation Loss: 0.4657| Validation Accuracy: 83.8129\n",
            "Epoch 45/70 : Training loss: 0.9704 | Training Accuracy: 92.0000| Validation Loss: 0.4999| Validation Accuracy: 82.3741\n",
            "Epoch 46/70 : Training loss: 0.8361 | Training Accuracy: 92.7179| Validation Loss: 0.4772| Validation Accuracy: 84.5324\n",
            "Epoch 47/70 : Training loss: 0.7672 | Training Accuracy: 93.0256| Validation Loss: 0.4805| Validation Accuracy: 84.5324\n",
            "Epoch 48/70 : Training loss: 0.6992 | Training Accuracy: 94.7692| Validation Loss: 0.4332| Validation Accuracy: 87.0504\n",
            "Epoch 49/70 : Training loss: 0.5965 | Training Accuracy: 95.1795| Validation Loss: 0.4616| Validation Accuracy: 84.5324\n",
            "Epoch 50/70 : Training loss: 0.5787 | Training Accuracy: 95.8974| Validation Loss: 0.4598| Validation Accuracy: 85.6115\n",
            "Epoch 51/70 : Training loss: 0.4861 | Training Accuracy: 96.9231| Validation Loss: 0.4160| Validation Accuracy: 86.6906\n",
            "Epoch 52/70 : Training loss: 0.5122 | Training Accuracy: 95.7949| Validation Loss: 0.5062| Validation Accuracy: 84.5324\n",
            "Epoch 53/70 : Training loss: 0.4539 | Training Accuracy: 96.8205| Validation Loss: 0.6067| Validation Accuracy: 81.6547\n",
            "Epoch 54/70 : Training loss: 0.4679 | Training Accuracy: 96.9231| Validation Loss: 0.4757| Validation Accuracy: 86.3309\n",
            "Epoch 55/70 : Training loss: 0.3974 | Training Accuracy: 97.4359| Validation Loss: 0.4512| Validation Accuracy: 84.8921\n",
            "Epoch 56/70 : Training loss: 0.3252 | Training Accuracy: 97.7436| Validation Loss: 0.4266| Validation Accuracy: 85.6115\n",
            "Epoch 57/70 : Training loss: 0.2983 | Training Accuracy: 98.1538| Validation Loss: 0.5292| Validation Accuracy: 84.5324\n",
            "Epoch 58/70 : Training loss: 0.3325 | Training Accuracy: 97.3333| Validation Loss: 0.6146| Validation Accuracy: 83.8129\n",
            "Epoch 59/70 : Training loss: 0.2716 | Training Accuracy: 97.8462| Validation Loss: 0.5053| Validation Accuracy: 83.0935\n",
            "Epoch 60/70 : Training loss: 0.3913 | Training Accuracy: 96.3077| Validation Loss: 0.4427| Validation Accuracy: 85.2518\n",
            "Epoch 61/70 : Training loss: 0.2360 | Training Accuracy: 98.6667| Validation Loss: 0.4965| Validation Accuracy: 84.8921\n",
            "Epoch 62/70 : Training loss: 0.2051 | Training Accuracy: 99.2821| Validation Loss: 0.4506| Validation Accuracy: 86.6906\n",
            "Epoch 63/70 : Training loss: 0.2045 | Training Accuracy: 98.6667| Validation Loss: 0.4643| Validation Accuracy: 84.1727\n",
            "Epoch 64/70 : Training loss: 0.1739 | Training Accuracy: 98.8718| Validation Loss: 0.4501| Validation Accuracy: 87.4101\n",
            "Epoch 65/70 : Training loss: 0.1772 | Training Accuracy: 98.7692| Validation Loss: 0.5511| Validation Accuracy: 83.0935\n",
            "Epoch 66/70 : Training loss: 0.1690 | Training Accuracy: 98.7692| Validation Loss: 0.4778| Validation Accuracy: 85.6115\n",
            "Epoch 67/70 : Training loss: 0.1737 | Training Accuracy: 98.8718| Validation Loss: 0.5137| Validation Accuracy: 85.2518\n",
            "Epoch 68/70 : Training loss: 0.1453 | Training Accuracy: 99.1795| Validation Loss: 0.4800| Validation Accuracy: 85.2518\n",
            "Epoch 69/70 : Training loss: 0.1467 | Training Accuracy: 99.0769| Validation Loss: 0.4449| Validation Accuracy: 85.9712\n",
            "Epoch 70/70 : Training loss: 0.1410 | Training Accuracy: 98.9744| Validation Loss: 0.5022| Validation Accuracy: 83.4532\n"
          ],
          "name": "stdout"
        }
      ]
    },
    {
      "cell_type": "code",
      "metadata": {
        "id": "NcGMmb2EBvub",
        "colab_type": "code",
        "outputId": "c36fd73e-4fe1-45f9-8603-ee1a9f80787c",
        "colab": {
          "base_uri": "https://localhost:8080/",
          "height": 654
        }
      },
      "source": [
        "# Plots for training and validation\n",
        "fig = plt.figure(figsize=[15,5]) \n",
        "\n",
        "\n",
        "plt.subplot(121)\n",
        "plt.plot(range(num_epochs),train_acc,'g-',label='Training Accuracy') \n",
        "plt.legend(loc='upper right')\n",
        "plt.xlabel('Epochs')\n",
        "plt.ylabel('Accuracy')\n",
        "\n",
        "plt.subplot(122)\n",
        "plt.plot(range(num_epochs),train_loss,'r-',label='Training Loss') \n",
        "plt.legend(loc='upper right')\n",
        "plt.xlabel('Epochs')\n",
        "plt.ylabel('Loss')\n",
        "plt.show()\n",
        "\n",
        "fig = plt.figure(figsize=[15,5]) \n",
        "\n",
        "plt.subplot(121)\n",
        "plt.plot(range(num_epochs),val_acc,'g-',label='Validation Accuracy') \n",
        "plt.legend(loc='upper right')\n",
        "plt.xlabel('Epochs')\n",
        "plt.ylabel('Accuracy')\n",
        "\n",
        "plt.subplot(122)\n",
        "plt.plot(range(num_epochs),val_loss,'r-',label='Validation Loss') \n",
        "plt.legend(loc='upper right')\n",
        "plt.xlabel('Epochs')\n",
        "plt.ylabel('Loss')\n",
        "plt.show()\n"
      ],
      "execution_count": 10,
      "outputs": [
        {
          "output_type": "display_data",
          "data": {
            "image/png": "[encoded data removed]",
            "text/plain": [
              "<Figure size 1080x360 with 2 Axes>"
            ]
          },
          "metadata": {
            "tags": [],
            "needs_background": "light"
          }
        },
        {
          "output_type": "display_data",
          "data": {
            "image/png": "[encoded data removed]",
            "text/plain": [
              "<Figure size 1080x360 with 2 Axes>"
            ]
          },
          "metadata": {
            "tags": [],
            "needs_background": "light"
          }
        }
      ]
    },
    {
      "cell_type": "code",
      "metadata": {
        "id": "yF-Pvh25F5cq",
        "colab_type": "code",
        "outputId": "f78813cc-6d0b-4345-8158-840f7ef957f4",
        "colab": {
          "base_uri": "https://localhost:8080/",
          "height": 34
        }
      },
      "source": [
        "corr_pred = 0\n",
        "for data in testloader:\n",
        "    images,labels = data\n",
        "    if use_gpu:\n",
        "        images, labels = images.cuda(),labels.cuda()\n",
        "    # Feedforward train data \n",
        "    output = net(images) \n",
        "    \n",
        "    # Maximum probability class is the predicted class\n",
        "    preds = torch.argmax(output,dim=1)\n",
        "    corr_pred += torch.sum(preds==labels)\n",
        "\n",
        "test_accuracy = corr_pred.item()/len(test_dataset)\n",
        "print('Testing accuracy: ',round(test_accuracy*100.0,4))"
      ],
      "execution_count": 11,
      "outputs": [
        {
          "output_type": "stream",
          "text": [
            "Testing accuracy:  93.5714\n"
          ],
          "name": "stdout"
        }
      ]
    },
    {
      "cell_type": "code",
      "metadata": {
        "id": "NOY1UCA6o-ia",
        "colab_type": "code",
        "outputId": "20ade9dc-889f-4dfe-84df-aaf4ce5631c6",
        "colab": {
          "base_uri": "https://localhost:8080/",
          "height": 221
        }
      },
      "source": [
        "# Model Space\n",
        "# Print model's state_dict\n",
        "\n",
        "total_params=0\n",
        "print(\"Model's state_dict:\")\n",
        "for param_tensor in net.state_dict():\n",
        "    print(param_tensor, \"\\t\", net.state_dict()[param_tensor].size())\n",
        "    size=net.state_dict()[param_tensor].shape\n",
        "    pars=1\n",
        "    for i in range(len(size)):\n",
        "      pars*=size[i]\n",
        "    total_params+=pars\n",
        "\n",
        "print(\"Total Model Parameters:\",total_params)\n"
      ],
      "execution_count": 12,
      "outputs": [
        {
          "output_type": "stream",
          "text": [
            "Model's state_dict:\n",
            "Conv1.weight \t torch.Size([6, 1, 5, 5])\n",
            "Conv1.bias \t torch.Size([6])\n",
            "Conv2.weight \t torch.Size([16, 6, 5, 5])\n",
            "Conv2.bias \t torch.Size([16])\n",
            "FC1.weight \t torch.Size([120, 400])\n",
            "FC1.bias \t torch.Size([120])\n",
            "FC2.weight \t torch.Size([84, 120])\n",
            "FC2.bias \t torch.Size([84])\n",
            "FC3.weight \t torch.Size([10, 84])\n",
            "FC3.bias \t torch.Size([10])\n",
            "Total Model Parameters: 61706\n"
          ],
          "name": "stdout"
        }
      ]
    }
  ]
}